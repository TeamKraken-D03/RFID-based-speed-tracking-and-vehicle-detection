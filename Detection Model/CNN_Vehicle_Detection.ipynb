{
 "cells": [
  {
   "cell_type": "markdown",
   "metadata": {},
   "source": [
    "# Importing libraries"
   ]
  },
  {
   "cell_type": "code",
   "execution_count": null,
   "metadata": {},
   "outputs": [],
   "source": [
    "import os\n",
    "import torch\n",
    "import torch.nn as nn\n",
    "import torch.optim as optim\n",
    "import numpy as np\n",
    "import pandas as pd\n",
    "import matplotlib.pyplot as plt\n",
    "from tqdm import tqdm\n",
    "from torch.utils.data import Dataset, DataLoader\n",
    "from torchvision.io import read_image\n",
    "from sklearn.model_selection import train_test_split\n",
    "from sklearn.metrics import classification_report, accuracy_score"
   ]
  },
  {
   "cell_type": "markdown",
   "metadata": {},
   "source": [
    "# Loading dataset"
   ]
  },
  {
   "cell_type": "code",
   "execution_count": 2,
   "metadata": {},
   "outputs": [],
   "source": [
    "def load_dataset(dataset_path=\"data\"):\n",
    "    images, annotations = [], []\n",
    "    \n",
    "    vehicle_dir = os.path.join(dataset_path, \"vehicles\")\n",
    "    vehicle_images = [os.path.join(vehicle_dir, path) for path in os.listdir(vehicle_dir)]\n",
    "    images.extend(vehicle_images)\n",
    "    annotations.extend([1] * len(vehicle_images))\n",
    "    \n",
    "    non_vehicle_dir = os.path.join(dataset_path, \"non-vehicles\")\n",
    "    non_vehicle_images = [os.path.join(non_vehicle_dir, path) for path in os.listdir(non_vehicle_dir)]\n",
    "    images.extend(non_vehicle_images)\n",
    "    annotations.extend([0] * len(non_vehicle_images))\n",
    "    \n",
    "    print(f\"Dataset size: ({len(images)}, {len(annotations)})\")\n",
    "    return images, annotations"
   ]
  },
  {
   "cell_type": "markdown",
   "metadata": {},
   "source": [
    "# Transormation annotation and augmentation"
   ]
  },
  {
   "cell_type": "code",
   "execution_count": null,
   "metadata": {},
   "outputs": [],
   "source": [
    "class VehicleDataset(Dataset):\n",
    "    def __init__(self, images, annotations, transform=None):\n",
    "        self.images = images\n",
    "        self.annotations = annotations\n",
    "        self.transform = transform\n",
    "\n",
    "    def __len__(self):\n",
    "        return len(self.annotations)\n",
    "    \n",
    "    def __getitem__(self, index):\n",
    "        image = read_image(self.images[index]) / 255\n",
    "        annotation = self.annotations[index]\n",
    "\n",
    "        if self.transform:\n",
    "            image = self.transform(image)\n",
    "\n",
    "    transform = transforms.Compose([\n",
    "    transforms.Resize((32, 32)),       \n",
    "    transforms.RandomHorizontalFlip(p=0.5),  \n",
    "    transforms.RandomRotation(15),     \n",
    "    transforms.ColorJitter(brightness=0.2, contrast=0.2, saturation=0.2),  \n",
    "    transforms.ToTensor(),             \n",
    "    transforms.Normalize((0.5,), (0.5,))  \n",
    "])\n",
    "        \n",
    "return image, annotation"
   ]
  },
  {
   "cell_type": "markdown",
   "metadata": {},
   "source": [
    "# CNN"
   ]
  },
  {
   "cell_type": "code",
   "execution_count": null,
   "metadata": {},
   "outputs": [],
   "source": [
    "class ClassificationModel(nn.Module):\n",
    "    def __init__(self):\n",
    "        super(ClassificationModel, self).__init__()\n",
    "        self.conv1 = nn.Conv2d(3, 6, 5)\n",
    "        self.pool = nn.MaxPool2d(2, 2)\n",
    "        self.conv2 = nn.Conv2d(6, 16, 5)\n",
    "        self.fc1 = nn.Linear(16 * 13 * 13, 120)\n",
    "        self.fc2 = nn.Linear(120, 64)\n",
    "        self.fc3 = nn.Linear(64, 1)\n",
    "    \n",
    "    def forward(self, x):\n",
    "        x = self.pool(nn.functional.relu(self.conv1(x)))\n",
    "        x = self.pool(nn.functional.relu(self.conv2(x)))\n",
    "        x = x.view(-1, 16 * 13 * 13)\n",
    "        x = nn.functional.relu(self.fc1(x))\n",
    "        x = nn.functional.relu(self.fc2(x))\n",
    "        x = torch.sigmoid(self.fc3(x))\n",
    "        return x"
   ]
  },
  {
   "cell_type": "markdown",
   "metadata": {},
   "source": [
    "# Training and evaluation phase"
   ]
  },
  {
   "cell_type": "code",
   "execution_count": 5,
   "metadata": {},
   "outputs": [],
   "source": [
    "def train_model(model, train_loader, criterion, optimizer, epochs=100):\n",
    "    loss_values = []\n",
    "    model.train()\n",
    "    for epoch in range(epochs):\n",
    "        epoch_loss = 0\n",
    "        for images, labels in tqdm(train_loader, desc=f\"Epoch {epoch+1}\"):\n",
    "            images, labels = images.to(\"cuda\"), labels.to(\"cuda\")\n",
    "            optimizer.zero_grad()\n",
    "            outputs = model(images)\n",
    "            loss = criterion(outputs, labels.view(-1, 1).float())\n",
    "            loss.backward()\n",
    "            optimizer.step()\n",
    "            epoch_loss += loss.item()\n",
    "        loss_values.append(epoch_loss / len(train_loader))\n",
    "    return loss_values"
   ]
  },
  {
   "cell_type": "code",
   "execution_count": 6,
   "metadata": {},
   "outputs": [],
   "source": [
    "def evaluate_model(model, test_loader):\n",
    "    predictions, actuals = [], []\n",
    "    model.eval()\n",
    "    with torch.no_grad():\n",
    "        for images, labels in tqdm(test_loader, desc=\"Evaluating\"):\n",
    "            images, labels = images.to(\"cuda\"), labels.to(\"cuda\")\n",
    "            outputs = model(images)\n",
    "            preds = (outputs.cpu().numpy() > 0.5).astype(int)\n",
    "            predictions.extend(preds.flatten())\n",
    "            actuals.extend(labels.cpu().numpy())\n",
    "    \n",
    "    accuracy = accuracy_score(actuals, predictions)\n",
    "    print(f\"Accuracy: {accuracy:.4f}\")\n",
    "    report_df = pd.DataFrame(classification_report(actuals, predictions, zero_division=0, output_dict=True))\n",
    "    print(report_df.T)\n",
    "    return accuracy, report_df"
   ]
  },
  {
   "cell_type": "code",
   "execution_count": 7,
   "metadata": {},
   "outputs": [],
   "source": [
    "def plot_loss(loss_values):\n",
    "    plt.plot(loss_values, label='Training Loss')\n",
    "    plt.xlabel(\"Epochs\")\n",
    "    plt.ylabel(\"Loss\")\n",
    "    plt.title(\"Training Loss Curve\")\n",
    "    plt.legend()\n",
    "    plt.show()"
   ]
  },
  {
   "cell_type": "code",
   "execution_count": 8,
   "metadata": {},
   "outputs": [
    {
     "name": "stdout",
     "output_type": "stream",
     "text": [
      "Dataset size: (17760, 17760)\n"
     ]
    },
    {
     "name": "stderr",
     "output_type": "stream",
     "text": [
      "Epoch 1: 100%|██████████| 195/195 [01:30<00:00,  2.16it/s]\n",
      "Epoch 2: 100%|██████████| 195/195 [00:05<00:00, 37.04it/s]\n",
      "Epoch 3: 100%|██████████| 195/195 [00:05<00:00, 38.31it/s]\n",
      "Epoch 4: 100%|██████████| 195/195 [00:05<00:00, 34.05it/s]\n",
      "Epoch 5: 100%|██████████| 195/195 [00:05<00:00, 38.87it/s]\n",
      "Epoch 6: 100%|██████████| 195/195 [00:06<00:00, 30.51it/s]\n",
      "Epoch 7: 100%|██████████| 195/195 [00:06<00:00, 30.08it/s]\n",
      "Epoch 8: 100%|██████████| 195/195 [00:06<00:00, 30.45it/s]\n",
      "Epoch 9: 100%|██████████| 195/195 [00:06<00:00, 31.87it/s]\n",
      "Epoch 10: 100%|██████████| 195/195 [00:06<00:00, 31.75it/s]\n",
      "Epoch 11: 100%|██████████| 195/195 [00:06<00:00, 30.94it/s]\n",
      "Epoch 12: 100%|██████████| 195/195 [00:06<00:00, 31.16it/s]\n",
      "Epoch 13: 100%|██████████| 195/195 [00:05<00:00, 36.16it/s]\n",
      "Epoch 14: 100%|██████████| 195/195 [00:05<00:00, 32.72it/s]\n",
      "Epoch 15: 100%|██████████| 195/195 [00:05<00:00, 34.70it/s]\n",
      "Epoch 16: 100%|██████████| 195/195 [00:05<00:00, 38.91it/s]\n",
      "Epoch 17: 100%|██████████| 195/195 [00:05<00:00, 34.38it/s]\n",
      "Epoch 18: 100%|██████████| 195/195 [00:06<00:00, 29.17it/s]\n",
      "Epoch 19: 100%|██████████| 195/195 [01:18<00:00,  2.49it/s]\n",
      "Epoch 20: 100%|██████████| 195/195 [00:06<00:00, 32.49it/s]\n",
      "Epoch 21: 100%|██████████| 195/195 [00:05<00:00, 34.82it/s]\n",
      "Epoch 22: 100%|██████████| 195/195 [00:06<00:00, 30.54it/s]\n",
      "Epoch 23: 100%|██████████| 195/195 [00:06<00:00, 32.16it/s]\n",
      "Epoch 24: 100%|██████████| 195/195 [00:05<00:00, 35.94it/s]\n",
      "Epoch 25: 100%|██████████| 195/195 [00:05<00:00, 37.90it/s]\n",
      "Epoch 26: 100%|██████████| 195/195 [00:06<00:00, 32.26it/s]\n",
      "Epoch 27: 100%|██████████| 195/195 [00:06<00:00, 31.56it/s]\n",
      "Epoch 28: 100%|██████████| 195/195 [00:06<00:00, 31.92it/s]\n",
      "Epoch 29: 100%|██████████| 195/195 [00:05<00:00, 34.66it/s]\n",
      "Epoch 30: 100%|██████████| 195/195 [00:05<00:00, 33.75it/s]\n",
      "Epoch 31: 100%|██████████| 195/195 [00:05<00:00, 37.08it/s]\n",
      "Epoch 32: 100%|██████████| 195/195 [00:05<00:00, 38.31it/s]\n",
      "Epoch 33: 100%|██████████| 195/195 [00:05<00:00, 33.07it/s]\n",
      "Epoch 34: 100%|██████████| 195/195 [00:04<00:00, 42.34it/s]\n",
      "Epoch 35: 100%|██████████| 195/195 [00:05<00:00, 35.17it/s]\n",
      "Epoch 36: 100%|██████████| 195/195 [00:05<00:00, 37.93it/s]\n",
      "Epoch 37: 100%|██████████| 195/195 [00:05<00:00, 37.33it/s]\n",
      "Epoch 38: 100%|██████████| 195/195 [00:05<00:00, 38.91it/s]\n",
      "Epoch 39: 100%|██████████| 195/195 [00:04<00:00, 40.77it/s]\n",
      "Epoch 40: 100%|██████████| 195/195 [00:05<00:00, 35.97it/s]\n",
      "Epoch 41: 100%|██████████| 195/195 [00:05<00:00, 37.30it/s]\n",
      "Epoch 42: 100%|██████████| 195/195 [00:04<00:00, 41.93it/s]\n",
      "Epoch 43: 100%|██████████| 195/195 [00:04<00:00, 42.48it/s]\n",
      "Epoch 44: 100%|██████████| 195/195 [00:04<00:00, 42.42it/s]\n",
      "Epoch 45: 100%|██████████| 195/195 [00:04<00:00, 42.28it/s]\n",
      "Epoch 46: 100%|██████████| 195/195 [00:04<00:00, 41.80it/s]\n",
      "Epoch 47: 100%|██████████| 195/195 [00:04<00:00, 42.38it/s]\n",
      "Epoch 48: 100%|██████████| 195/195 [00:04<00:00, 42.38it/s]\n",
      "Epoch 49: 100%|██████████| 195/195 [00:04<00:00, 41.53it/s]\n",
      "Epoch 50: 100%|██████████| 195/195 [00:04<00:00, 42.81it/s]\n",
      "Epoch 51: 100%|██████████| 195/195 [00:04<00:00, 42.23it/s]\n",
      "Epoch 52: 100%|██████████| 195/195 [00:04<00:00, 42.52it/s]\n",
      "Epoch 53: 100%|██████████| 195/195 [00:04<00:00, 42.30it/s]\n",
      "Epoch 54: 100%|██████████| 195/195 [00:04<00:00, 42.03it/s]\n",
      "Epoch 55: 100%|██████████| 195/195 [00:04<00:00, 42.46it/s]\n",
      "Epoch 56: 100%|██████████| 195/195 [00:04<00:00, 40.25it/s]\n",
      "Epoch 57: 100%|██████████| 195/195 [00:04<00:00, 41.76it/s]\n",
      "Epoch 58: 100%|██████████| 195/195 [00:04<00:00, 42.82it/s]\n",
      "Epoch 59: 100%|██████████| 195/195 [00:04<00:00, 42.05it/s]\n",
      "Epoch 60: 100%|██████████| 195/195 [00:04<00:00, 42.27it/s]\n",
      "Epoch 61: 100%|██████████| 195/195 [00:04<00:00, 41.53it/s]\n",
      "Epoch 62: 100%|██████████| 195/195 [00:04<00:00, 42.36it/s]\n",
      "Epoch 63: 100%|██████████| 195/195 [00:04<00:00, 42.31it/s]\n",
      "Epoch 64: 100%|██████████| 195/195 [00:04<00:00, 41.90it/s]\n",
      "Epoch 65: 100%|██████████| 195/195 [00:04<00:00, 42.96it/s]\n",
      "Epoch 66: 100%|██████████| 195/195 [00:04<00:00, 42.24it/s]\n",
      "Epoch 67: 100%|██████████| 195/195 [00:04<00:00, 42.26it/s]\n",
      "Epoch 68: 100%|██████████| 195/195 [00:04<00:00, 42.00it/s]\n",
      "Epoch 69: 100%|██████████| 195/195 [00:04<00:00, 42.67it/s]\n",
      "Epoch 70: 100%|██████████| 195/195 [00:04<00:00, 42.33it/s]\n",
      "Epoch 71: 100%|██████████| 195/195 [00:04<00:00, 41.85it/s]\n",
      "Epoch 72: 100%|██████████| 195/195 [00:04<00:00, 42.58it/s]\n",
      "Epoch 73: 100%|██████████| 195/195 [00:04<00:00, 42.43it/s]\n",
      "Epoch 74: 100%|██████████| 195/195 [00:04<00:00, 41.94it/s]\n",
      "Epoch 75: 100%|██████████| 195/195 [00:04<00:00, 42.43it/s]\n",
      "Epoch 76: 100%|██████████| 195/195 [00:04<00:00, 41.82it/s]\n",
      "Epoch 77: 100%|██████████| 195/195 [00:04<00:00, 42.67it/s]\n",
      "Epoch 78: 100%|██████████| 195/195 [00:04<00:00, 39.33it/s]\n",
      "Epoch 79: 100%|██████████| 195/195 [00:03<00:00, 51.12it/s]\n",
      "Epoch 80: 100%|██████████| 195/195 [00:04<00:00, 45.50it/s]\n",
      "Epoch 81: 100%|██████████| 195/195 [00:04<00:00, 41.55it/s]\n",
      "Epoch 82: 100%|██████████| 195/195 [00:04<00:00, 44.23it/s]\n",
      "Epoch 83: 100%|██████████| 195/195 [00:04<00:00, 39.62it/s]\n",
      "Epoch 84: 100%|██████████| 195/195 [00:05<00:00, 37.81it/s]\n",
      "Epoch 85: 100%|██████████| 195/195 [00:05<00:00, 37.90it/s]\n",
      "Epoch 86: 100%|██████████| 195/195 [00:05<00:00, 38.07it/s]\n",
      "Epoch 87: 100%|██████████| 195/195 [00:05<00:00, 37.74it/s]\n",
      "Epoch 88: 100%|██████████| 195/195 [00:04<00:00, 40.80it/s]\n",
      "Epoch 89: 100%|██████████| 195/195 [00:34<00:00,  5.57it/s]\n",
      "Epoch 90: 100%|██████████| 195/195 [00:42<00:00,  4.61it/s]\n",
      "Epoch 91: 100%|██████████| 195/195 [00:05<00:00, 37.88it/s]\n",
      "Epoch 92: 100%|██████████| 195/195 [00:05<00:00, 38.93it/s]\n",
      "Epoch 93: 100%|██████████| 195/195 [00:04<00:00, 39.80it/s]\n",
      "Epoch 94: 100%|██████████| 195/195 [00:05<00:00, 38.74it/s]\n",
      "Epoch 95: 100%|██████████| 195/195 [00:04<00:00, 39.47it/s]\n",
      "Epoch 96: 100%|██████████| 195/195 [00:04<00:00, 40.49it/s]\n",
      "Epoch 97: 100%|██████████| 195/195 [00:04<00:00, 40.16it/s]\n",
      "Epoch 98: 100%|██████████| 195/195 [00:04<00:00, 40.21it/s]\n",
      "Epoch 99: 100%|██████████| 195/195 [00:04<00:00, 41.96it/s]\n",
      "Epoch 100: 100%|██████████| 195/195 [00:04<00:00, 41.42it/s]\n"
     ]
    },
    {
     "data": {
      "image/png": "[encoded data removed]",
      "text/plain": [
       "<Figure size 640x480 with 1 Axes>"
      ]
     },
     "metadata": {},
     "output_type": "display_data"
    },
    {
     "name": "stderr",
     "output_type": "stream",
     "text": [
      "Evaluating: 100%|██████████| 84/84 [00:29<00:00,  2.88it/s]"
     ]
    },
    {
     "name": "stdout",
     "output_type": "stream",
     "text": [
      "Accuracy: 0.9854\n",
      "              precision    recall  f1-score     support\n",
      "0              0.988355  0.982450  0.985393  2678.00000\n",
      "1              0.982371  0.988302  0.985327  2650.00000\n",
      "accuracy       0.985360  0.985360  0.985360     0.98536\n",
      "macro avg      0.985363  0.985376  0.985360  5328.00000\n",
      "weighted avg   0.985378  0.985360  0.985360  5328.00000\n",
      "Model saved successfully!\n"
     ]
    },
    {
     "name": "stderr",
     "output_type": "stream",
     "text": [
      "\n"
     ]
    }
   ],
   "source": [
    "images, annotations = load_dataset()\n",
    "X_train, X_test, y_train, y_test = train_test_split(images, annotations, test_size=0.3, random_state=432)\n",
    "\n",
    "train_loader = DataLoader(VehicleDataset(X_train, y_train), batch_size=64, shuffle=True)\n",
    "test_loader = DataLoader(VehicleDataset(X_test, y_test), batch_size=64, shuffle=False)\n",
    "\n",
    "model = ClassificationModel().to(\"cuda\")\n",
    "criterion = nn.BCELoss()\n",
    "optimizer = optim.AdamW(model.parameters(), lr=0.0001)\n",
    "\n",
    "loss_values = train_model(model, train_loader, criterion, optimizer)\n",
    "plot_loss(loss_values)\n",
    "\n",
    "accuracy, report_df = evaluate_model(model, test_loader)\n",
    "\n",
    "torch.save(model.state_dict(), \"vehicle_classifier.pth\")\n",
    "print(\"Model saved successfully!\")"
   ]
  },
  {
   "cell_type": "code",
   "execution_count": null,
   "metadata": {},
   "outputs": [],
   "source": []
  }
 ],
 "metadata": {
  "kernelspec": {
   "display_name": "myenv2",
   "language": "python",
   "name": "python3"
  },
  "language_info": {
   "codemirror_mode": {
    "name": "ipython",
    "version": 3
   },
   "file_extension": ".py",
   "mimetype": "text/x-python",
   "name": "python",
   "nbconvert_exporter": "python",
   "pygments_lexer": "ipython3",
   "version": "3.12.8"
  }
 },
 "nbformat": 4,
 "nbformat_minor": 2
}
